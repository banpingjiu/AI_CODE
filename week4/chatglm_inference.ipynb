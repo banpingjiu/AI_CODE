{
 "cells": [
  {
   "cell_type": "markdown",
   "id": "fc5bde60-1899-461d-8083-3ee04ac7c099",
   "metadata": {},
   "source": [
    "# 模型推理 - 使用 QLoRA 微调后的 ChatGLM-6B"
   ]
  },
  {
   "cell_type": "code",
   "execution_count": 1,
   "id": "3292b88c-91f0-48d2-91a5-06b0830c7e70",
   "metadata": {},
   "outputs": [],
   "source": [
    "import torch\n",
    "from transformers import AutoModel, AutoTokenizer, BitsAndBytesConfig\n",
    "\n",
    "# 模型ID或本地路径\n",
    "model_name_or_path = 'THUDM/chatglm3-6b'"
   ]
  },
  {
   "cell_type": "code",
   "execution_count": 2,
   "id": "63d0f3be-7b23-40db-8793-ce60ced7432e",
   "metadata": {},
   "outputs": [
    {
     "name": "stdout",
     "output_type": "stream",
     "text": [
      "Thu Aug 28 21:14:41 2025       \n",
      "+-----------------------------------------------------------------------------------------+\n",
      "| NVIDIA-SMI 550.127.08             Driver Version: 550.127.08     CUDA Version: 12.4     |\n",
      "|-----------------------------------------+------------------------+----------------------+\n",
      "| GPU  Name                 Persistence-M | Bus-Id          Disp.A | Volatile Uncorr. ECC |\n",
      "| Fan  Temp   Perf          Pwr:Usage/Cap |           Memory-Usage | GPU-Util  Compute M. |\n",
      "|                                         |                        |               MIG M. |\n",
      "|=========================================+========================+======================|\n",
      "|   0  Tesla T4                       On  |   00000000:00:07.0 Off |                    0 |\n",
      "| N/A   45C    P8              9W /   70W |       1MiB /  15360MiB |      0%      Default |\n",
      "|                                         |                        |                  N/A |\n",
      "+-----------------------------------------+------------------------+----------------------+\n",
      "                                                                                         \n",
      "+-----------------------------------------------------------------------------------------+\n",
      "| Processes:                                                                              |\n",
      "|  GPU   GI   CI        PID   Type   Process name                              GPU Memory |\n",
      "|        ID   ID                                                               Usage      |\n",
      "|=========================================================================================|\n",
      "|  No running processes found                                                             |\n",
      "+-----------------------------------------------------------------------------------------+\n"
     ]
    }
   ],
   "source": [
    "!nvidia-smi\n"
   ]
  },
  {
   "cell_type": "code",
   "execution_count": 3,
   "id": "9f81454c-24b2-4072-ab05-b25f9b120ae6",
   "metadata": {},
   "outputs": [
    {
     "name": "stderr",
     "output_type": "stream",
     "text": [
      "/root/miniconda3/envs/peft/lib/python3.10/site-packages/huggingface_hub/file_download.py:945: FutureWarning: `resume_download` is deprecated and will be removed in version 1.0.0. Downloads always resume when possible. If you want to force a new download, use `force_download=True`.\n",
      "  warnings.warn(\n",
      "/root/miniconda3/envs/peft/lib/python3.10/site-packages/huggingface_hub/file_download.py:945: FutureWarning: `resume_download` is deprecated and will be removed in version 1.0.0. Downloads always resume when possible. If you want to force a new download, use `force_download=True`.\n",
      "  warnings.warn(\n"
     ]
    },
    {
     "data": {
      "application/vnd.jupyter.widget-view+json": {
       "model_id": "af63d17ba3d94849871ae99e7d75b1bb",
       "version_major": 2,
       "version_minor": 0
      },
      "text/plain": [
       "Loading checkpoint shards:   0%|          | 0/7 [00:00<?, ?it/s]"
      ]
     },
     "metadata": {},
     "output_type": "display_data"
    },
    {
     "name": "stderr",
     "output_type": "stream",
     "text": [
      "/root/miniconda3/envs/peft/lib/python3.10/site-packages/huggingface_hub/file_download.py:945: FutureWarning: `resume_download` is deprecated and will be removed in version 1.0.0. Downloads always resume when possible. If you want to force a new download, use `force_download=True`.\n",
      "  warnings.warn(\n"
     ]
    }
   ],
   "source": [
    "_compute_dtype_map = {\n",
    "    'fp32': torch.float32,\n",
    "    'fp16': torch.float16,\n",
    "    'bf16': torch.bfloat16\n",
    "}\n",
    "\n",
    "# QLoRA 量化配置\n",
    "q_config = BitsAndBytesConfig(load_in_4bit=True,\n",
    "                              bnb_4bit_quant_type='nf4',\n",
    "                              bnb_4bit_use_double_quant=True,\n",
    "                              bnb_4bit_compute_dtype=_compute_dtype_map['bf16'])\n",
    "\n",
    "# 加载量化后模型(与微调的 revision 保持一致）\n",
    "base_model = AutoModel.from_pretrained(model_name_or_path,\n",
    "                                      quantization_config=q_config,\n",
    "                                      device_map='auto',\n",
    "                                      trust_remote_code=True,\n",
    "                                      revision='b098244', \n",
    "                                      # 🔽 关键参数：offload_folder（必须存在）\n",
    "                                      offload_folder=\"./offload\",  # 创建该目录：mkdir -p ./offload\n",
    "                                      # 🔽 可选：限制最大显存使用（防止占满）\n",
    "                                      max_memory={0: \"10GiB\", \"cpu\": \"32GiB\"},  # T4 最多用 10G 显存，其余卸载到 CPU\n",
    "                                      )"
   ]
  },
  {
   "cell_type": "code",
   "execution_count": 4,
   "id": "d488846f-41bb-4fe6-9f09-0f392f3b39e6",
   "metadata": {},
   "outputs": [
    {
     "data": {
      "text/plain": [
       "ChatGLMForConditionalGeneration(\n",
       "  (transformer): ChatGLMModel(\n",
       "    (embedding): Embedding(\n",
       "      (word_embeddings): Embedding(65024, 4096)\n",
       "    )\n",
       "    (rotary_pos_emb): RotaryEmbedding()\n",
       "    (encoder): GLMTransformer(\n",
       "      (layers): ModuleList(\n",
       "        (0-27): 28 x GLMBlock(\n",
       "          (input_layernorm): RMSNorm()\n",
       "          (self_attention): SelfAttention(\n",
       "            (query_key_value): Linear4bit(in_features=4096, out_features=4608, bias=True)\n",
       "            (core_attention): CoreAttention(\n",
       "              (attention_dropout): Dropout(p=0.0, inplace=False)\n",
       "            )\n",
       "            (dense): Linear4bit(in_features=4096, out_features=4096, bias=False)\n",
       "          )\n",
       "          (post_attention_layernorm): RMSNorm()\n",
       "          (mlp): MLP(\n",
       "            (dense_h_to_4h): Linear4bit(in_features=4096, out_features=27392, bias=False)\n",
       "            (dense_4h_to_h): Linear4bit(in_features=13696, out_features=4096, bias=False)\n",
       "          )\n",
       "        )\n",
       "      )\n",
       "      (final_layernorm): RMSNorm()\n",
       "    )\n",
       "    (output_layer): Linear(in_features=4096, out_features=65024, bias=False)\n",
       "  )\n",
       ")"
      ]
     },
     "execution_count": 4,
     "metadata": {},
     "output_type": "execute_result"
    }
   ],
   "source": [
    "base_model.requires_grad_(False)\n",
    "base_model.eval()"
   ]
  },
  {
   "cell_type": "code",
   "execution_count": 5,
   "id": "7e4270e2-c827-450e-bf27-7cb43a97f8f7",
   "metadata": {},
   "outputs": [],
   "source": [
    "tokenizer = AutoTokenizer.from_pretrained(model_name_or_path,\n",
    "                                          trust_remote_code=True,\n",
    "                                          revision='b098244')"
   ]
  },
  {
   "cell_type": "markdown",
   "id": "63408b60-876e-4eda-b501-90f842cca002",
   "metadata": {},
   "source": [
    "## 使用原始 ChatGLM3-6B 模型"
   ]
  },
  {
   "cell_type": "code",
   "execution_count": 6,
   "id": "6ef405cf-7d77-41a6-a07b-c6c768ee30cf",
   "metadata": {},
   "outputs": [],
   "source": [
    "input_text = \"解释下乾卦是什么？\""
   ]
  },
  {
   "cell_type": "code",
   "execution_count": 7,
   "id": "566ed80e-828b-4105-b6e6-49de8905c991",
   "metadata": {},
   "outputs": [],
   "source": [
    "response, history = base_model.chat(tokenizer, query=input_text)"
   ]
  },
  {
   "cell_type": "code",
   "execution_count": 8,
   "id": "6cee217e-f276-4c2f-94e7-69afb6d541a6",
   "metadata": {},
   "outputs": [
    {
     "name": "stdout",
     "output_type": "stream",
     "text": [
      "乾卦是八卦之一，也是八宫图中的第一个卦。乾卦是由两个阴爻夹一个阳爻构成，象征着天、干燥、刚强、积极向上、行动力等。乾卦的卦辞是“元、亨、利、贞”，表示万事万物的本源和正宗，具有无穷的力量和广阔的意义。\n",
      "\n",
      "乾卦的六爻分别代表不同的天气和状态，从初爻到六爻，依次是：初爻为 cloud（初），二爻为 light（二），三爻为 heavy（三），四爻为 wind（四），五爻为 firmness（五），六爻为 clear（六）。\n",
      "\n",
      "乾卦的应用非常广泛，可以用来指导人们的行为和决策，也可以用来分析事物的状态和发展趋势。乾卦的出现，意味着事物正在走向积极向上的方向，但也需要注意避免过于刚强和固执。\n"
     ]
    }
   ],
   "source": [
    "print(response)"
   ]
  },
  {
   "cell_type": "markdown",
   "id": "3db3245d-037d-4fe5-ac0d-cc5e82742399",
   "metadata": {},
   "source": [
    "#### 询问一个64卦相关问题（应该不在 ChatGLM3-6B 预训练数据中）"
   ]
  },
  {
   "cell_type": "code",
   "execution_count": 9,
   "id": "bbe1395f-39c2-4759-ae81-90ef3bcfae47",
   "metadata": {},
   "outputs": [
    {
     "name": "stdout",
     "output_type": "stream",
     "text": [
      "讼卦是八卦之一，也是八宫图中的第二个卦。讼卦由两个阳爻夹一个阴爻构成，象征着诉讼、争端、诉讼、矛盾等。\n",
      "\n",
      "讼卦的卦辞是“元、亨、利、贞”，表示万事万物的本源和正宗，具有无穷的力量和广阔的意义。但是，由于诉讼和争端的存在，这个卦也预示着可能会带来一些负面影响和困难。\n",
      "\n",
      "在周易中，每个卦都有不同的含义和解释，而讼卦也不例外。它的六爻分别代表不同的方面和状态，从初爻到六爻，依次是：初爻为 cloud（初），二爻为 light（二），三爻为 heavy（三），四爻为 wind（四），五爻为 firmness（五），六爻为 clear（六）。\n",
      "\n",
      "讼卦的出现，意味着事物正在面临诉讼和争端的可能性，也预示着这些争端可能会带来一些不利的影响。因此，在遇到讼卦时，我们应该首先冷静下来，尽可能通过和平的方式来解决争端，避免让争端进一步恶化。\n"
     ]
    }
   ],
   "source": [
    "response, history = base_model.chat(tokenizer, query=\"周易中的讼卦是什么？\", history=history)\n",
    "print(response)"
   ]
  },
  {
   "cell_type": "code",
   "execution_count": null,
   "id": "342b3659-d644-4232-8af1-f092e733bf40",
   "metadata": {},
   "outputs": [],
   "source": []
  },
  {
   "cell_type": "markdown",
   "id": "6d23e720-dee1-4b43-a298-0cbe1d8ad11d",
   "metadata": {},
   "source": [
    "## 使用微调后的 ChatGLM3-6B"
   ]
  },
  {
   "cell_type": "markdown",
   "id": "6bcfc5a2-41ed-405c-a31c-dca4fbb67425",
   "metadata": {},
   "source": [
    "### 加载 QLoRA Adapter(Epoch=3, automade-dataset(fixed)) - 请根据训练时间戳修改 timestamp "
   ]
  },
  {
   "cell_type": "code",
   "execution_count": 11,
   "id": "27720f6c-29cf-4b51-a17e-698499d7480e",
   "metadata": {},
   "outputs": [
    {
     "name": "stdout",
     "output_type": "stream",
     "text": [
      "models/:\n",
      "THUDM\n",
      "\n",
      "models/THUDM:\n",
      "chatglm3-6b-epoch3-20250828_204439\n",
      "\n",
      "models/THUDM/chatglm3-6b-epoch3-20250828_204439:\n",
      "adapter_config.json\t   checkpoint-20  checkpoint-50\n",
      "adapter_model.safetensors  checkpoint-30  checkpoint-60\n",
      "checkpoint-10\t\t   checkpoint-40  README.md\n",
      "\n",
      "models/THUDM/chatglm3-6b-epoch3-20250828_204439/checkpoint-10:\n",
      "adapter_config.json\t   optimizer.pt  rng_state.pth\ttrainer_state.json\n",
      "adapter_model.safetensors  README.md\t scheduler.pt\ttraining_args.bin\n",
      "\n",
      "models/THUDM/chatglm3-6b-epoch3-20250828_204439/checkpoint-20:\n",
      "adapter_config.json\t   optimizer.pt  rng_state.pth\ttrainer_state.json\n",
      "adapter_model.safetensors  README.md\t scheduler.pt\ttraining_args.bin\n",
      "\n",
      "models/THUDM/chatglm3-6b-epoch3-20250828_204439/checkpoint-30:\n",
      "adapter_config.json\t   optimizer.pt  rng_state.pth\ttrainer_state.json\n",
      "adapter_model.safetensors  README.md\t scheduler.pt\ttraining_args.bin\n",
      "\n",
      "models/THUDM/chatglm3-6b-epoch3-20250828_204439/checkpoint-40:\n",
      "adapter_config.json\t   optimizer.pt  rng_state.pth\ttrainer_state.json\n",
      "adapter_model.safetensors  README.md\t scheduler.pt\ttraining_args.bin\n",
      "\n",
      "models/THUDM/chatglm3-6b-epoch3-20250828_204439/checkpoint-50:\n",
      "adapter_config.json\t   optimizer.pt  rng_state.pth\ttrainer_state.json\n",
      "adapter_model.safetensors  README.md\t scheduler.pt\ttraining_args.bin\n",
      "\n",
      "models/THUDM/chatglm3-6b-epoch3-20250828_204439/checkpoint-60:\n",
      "adapter_config.json\t   optimizer.pt  rng_state.pth\ttrainer_state.json\n",
      "adapter_model.safetensors  README.md\t scheduler.pt\ttraining_args.bin\n"
     ]
    }
   ],
   "source": [
    "!ls -R models/"
   ]
  },
  {
   "cell_type": "code",
   "execution_count": 12,
   "id": "9c767c67-42aa-459c-a096-e226226c359b",
   "metadata": {},
   "outputs": [],
   "source": [
    "from peft import PeftModel, PeftConfig\n",
    "\n",
    "epochs = 3\n",
    "# timestamp = \"20240118_164514\"\n",
    "timestamp = \"20250828_204439\"\n",
    "\n",
    "peft_model_path = f\"models/{model_name_or_path}-epoch{epochs}-{timestamp}\"\n",
    "\n",
    "config = PeftConfig.from_pretrained(peft_model_path)\n",
    "qlora_model = PeftModel.from_pretrained(base_model, peft_model_path)\n",
    "training_tag=f\"ChatGLM3-6B(Epoch=3, automade-dataset(fixed))-{timestamp}\""
   ]
  },
  {
   "cell_type": "code",
   "execution_count": 13,
   "id": "24a5d22b-2c94-4dcf-8135-18d78f98755f",
   "metadata": {},
   "outputs": [],
   "source": [
    "def compare_chatglm_results(query, base_model, qlora_model, training_tag):\n",
    "    base_response, base_history = base_model.chat(tokenizer, query)\n",
    "\n",
    "    inputs = tokenizer(query, return_tensors=\"pt\").to(0)\n",
    "    ft_out = qlora_model.generate(**inputs, max_new_tokens=512)\n",
    "    ft_response = tokenizer.decode(ft_out[0], skip_special_tokens=True)\n",
    "    \n",
    "    print(f\"问题：{query}\\n\\n原始输出：\\n{base_response}\\n\\n\\n微调后（{training_tag}）：\\n{ft_response}\")\n",
    "    return base_response, ft_response"
   ]
  },
  {
   "cell_type": "markdown",
   "id": "062cd62e-69f9-4605-8c83-e468f71ef3d3",
   "metadata": {},
   "source": [
    "### 微调前后效果对比"
   ]
  },
  {
   "cell_type": "code",
   "execution_count": 14,
   "id": "7db16cd5-0bb5-44ab-b861-d9ca6a4970c2",
   "metadata": {},
   "outputs": [
    {
     "name": "stdout",
     "output_type": "stream",
     "text": [
      "问题：解释下乾卦是什么？\n",
      "\n",
      "原始输出：\n",
      "{'name': '乾卦是周易中的一卦，由六个阳爻组成，位于卦象的北方。它代表天，是天地的开始，象征着大吉大利。然而，在占卜中，它也预示着一些不利的因素。乾卦的核心哲学是：天行健，君子拟天，健始尚终，观天时，把握君子自己的道。', 'content': '\\n乾卦的卦象是由两个阳爻夹一个阴爻构成，象征着天地的合一，大吉大利。然而，在占卜中，它也预示着一些不利的因素。在事业、经商、求名等方面，都需要谨慎行事，不可轻举妄动。但在决策中，健始尚终，坚持正道，可以帮助自身获得成功。'}\n",
      "\n",
      "\n",
      "微调后（ChatGLM3-6B(Epoch=3, automade-dataset(fixed))-20250828_204439）：\n",
      "[gMASK]sop 解释下乾卦是什么？ 在周易中，乾卦是六十四卦之首，由六个阳爻组成，象征着天。它所代表的是刚健、健行、刚健不屈的意境。乾卦的核心哲学是：天道刚健，运行不已，君子观此卦象，从而以天为法，自强不息。\n",
      "\n",
      "乾卦象征天，为大通而至正。得此卦者，名利双收，应把握机会，争取成果。然而，切勿过于骄傲自满，而应保持谦逊、冷静和警惕。在事业、经商、求名等方面，乾卦皆暗示着大吉大利，但也警示着必须坚持正道、修养德行，方能永远亨通。\n",
      "\n",
      "在婚恋方面，乾卦提示着阳盛阴衰，但也强调刚柔相济，相互补足，形成美满的结果。在决策方面，则是强调刚健、正直、公允，自强不息的实质，需要修养德行、坚定信念，方能克服困难，消除灾难。\n"
     ]
    }
   ],
   "source": [
    "base_response, ft_response = compare_chatglm_results(\"解释下乾卦是什么？\", base_model, qlora_model, training_tag)"
   ]
  },
  {
   "cell_type": "code",
   "execution_count": 15,
   "id": "7aa074bd-c819-4533-a10f-f3184dc9549a",
   "metadata": {},
   "outputs": [
    {
     "name": "stdout",
     "output_type": "stream",
     "text": [
      "问题：周易中的讼卦是什么\n",
      "\n",
      "原始输出：\n",
      "{'name': '讼卦是一个占卜卦象，在周易卦象中，它由上卦乾（天）和下卦坎（水）组成。乾卦代表天，坎卦代表水，两者结合形成一个卦象，象征着天与地相融，光明与黑暗相激。这一卦象预示着事物相互依存，互为因果，互为彼我。', 'content': '\\n讼卦的核心哲学是：天行健，君子道其道，止于至善。意味着天一直行健，人们应该效仿天的行健，止于至善，从而实现良好的结局。然而，尽管天行健，但君子仍然需要道法自然，止于至善，才能实现良好的结局。\\n\\n在这个卦象中，旱的形成与天相对，表示天行健，而君子当涉水过河。因此，这一卦象预示着君子应当勇敢地迎接挑战，冒险去冒犯他人，以此来实现愿望。然而，Also, it serves as a reminder that to achieve success, one must be patient and humble, and trust in the right path. It also suggests that one should act with justice and righteousness to avoid disputes and conflicts. Finally, it suggests that one should be flexible and adaptable in difficult situations, as the answer to success is not always what one expects.'}\n",
      "\n",
      "\n",
      "微调后（ChatGLM3-6B(Epoch=3, automade-dataset(fixed))-20250828_204439）：\n",
      "[gMASK]sop 周易中的讼卦是什么样子 讼卦是一个充满警示的卦象，它由上卦乾（天）和下卦坎（水）组成。在这个卦象中，天与水背道而驰，形成争讼的局面。虽然事情开始时有利可图，但必须警惕戒惧，因为中间虽然吉利，但最终会带来凶险。对于涉及大川，涉水渡河的行动不利。因此，君子观此卦象，应当慎之又慎，杜绝争讼之事，并在谋事之初谨慎行事。讼卦的核心哲学是要避免争讼，退而让人，求得化解，安于正理，方可避免意外之灾。在事业上，务必避免介入诉讼纠纷的争执之中，与其这样，不如退而让人。即使最终获胜，也难免得失不均。经商方面，要坚持公正、公平、互利的原则，避免冲突，这样会有好结果。而对于求名、婚恋和决策，也都需要慎重行事，避免盲目追求，退让让人，可助事业、婚姻和决策的发展。\n"
     ]
    }
   ],
   "source": [
    "base_response, ft_response = compare_chatglm_results(\"周易中的讼卦是什么\", base_model, qlora_model, training_tag)"
   ]
  },
  {
   "cell_type": "code",
   "execution_count": 16,
   "id": "d5a31554-40f1-4e6e-8240-f207c4a61b42",
   "metadata": {},
   "outputs": [
    {
     "name": "stdout",
     "output_type": "stream",
     "text": [
      "问题：师卦是什么？\n",
      "\n",
      "原始输出：\n",
      "师卦是由坎卦（水）和坤卦（地）相叠而成。这一卦象代表着军队的力量和军情的总指挥，预示着吉祥无灾。象辞中描述了地中有水的情景，寓意着君子应当像大地一样容纳和畜养大众。师卦的解释强调选择德高望重的长者来统率军队，才能获得吉祥无咎。另外，师卦也象征着困难重重，需要包容别人、艰苦努力，及时行事，严于律已。在事业、经商、求名、婚恋等方面的决策中，都需要警惕潜在敌人，小心谨慎，合作与决断兼顾，方能成功。\n",
      "\n",
      "\n",
      "微调后（ChatGLM3-6B(Epoch=3, automade-dataset(fixed))-20250828_204439）：\n",
      "[gMASK]sop 师卦是什么？ 师卦是由坎卦（水）和坤卦（地）相叠而成。它代表着军队的力量和军情的总指挥，预示着吉祥无灾。在周易中，师卦的解释象征着吉祥无灾，但需要注意，行动之前必须要有计划和领导。师卦的核心哲学是“宁缺毋滥”，即军队虽然众多，但必须谨慎行事，以免损失。另外，师卦也象征着困难重重，需要谨慎应对，勇敢担当，才能获得美好的结局。\n",
      "\n",
      "在事业、经商、求名、婚恋等方面的决策中，师卦都代表着困难与挑战。因此，若想在事业、经商、求名等方面取得成功，必须若是领导，必须谨慎行事，若非领导，必须寻找合适的工作机会。在婚恋方面，师卦代表着谨慎行事，不能轻信他人，必须小心谨慎地寻找合适的对象。\n",
      "\n",
      "师卦的核心哲学是：若非领导，若在求名、事业、经商方面，必须谨慎行事，若在婚恋方面，必须小心谨慎地寻找合适的对象。\n"
     ]
    }
   ],
   "source": [
    "base_response, ft_response = compare_chatglm_results(\"师卦是什么？\", base_model, qlora_model, training_tag)"
   ]
  },
  {
   "cell_type": "code",
   "execution_count": null,
   "id": "abae8a8e-00bb-4801-931a-c942206f0e2a",
   "metadata": {},
   "outputs": [],
   "source": []
  },
  {
   "cell_type": "markdown",
   "id": "7d48183f-f1dc-4171-b217-e269a5b9c1b9",
   "metadata": {},
   "source": [
    "## 其他模型（错误数据或训练参数）\n",
    "\n",
    "#### 加载 QLoRA Adapter(Epoch=3, automade-dataset)"
   ]
  },
  {
   "cell_type": "code",
   "execution_count": 19,
   "id": "46a0e881-a4f3-43b2-8a61-0ec543a538a7",
   "metadata": {},
   "outputs": [],
   "source": [
    "from peft import PeftModel, PeftConfig\n",
    "\n",
    "epochs = 3\n",
    "peft_model_path = f\"models/{model_name_or_path}-epoch{epochs}-{timestamp}\"\n",
    "\n",
    "config = PeftConfig.from_pretrained(peft_model_path)\n",
    "qlora_model_e3 = PeftModel.from_pretrained(base_model, peft_model_path)\n",
    "training_tag = f\"ChatGLM3-6B(Epoch=3, automade-dataset)\""
   ]
  },
  {
   "cell_type": "code",
   "execution_count": 20,
   "id": "1f53196e-f523-4105-b04a-9ddab349cce1",
   "metadata": {},
   "outputs": [
    {
     "name": "stdout",
     "output_type": "stream",
     "text": [
      "问题：解释下乾卦是什么？\n",
      "\n",
      "原始输出：\n",
      "{'name': '乾卦是中国传统哲学中的一个卦象，由六个阳爻组成，中间一个阳爻实、一个阳爻虚，形成一个天圆地方的卦象。乾卦代表着天（乾为天）的消息，它代表了一个刚健、健行、刚健不屈的意境。', 'content': '\\n乾卦象征天，代表着刚健、不屈不挠的精神，强调坚韧不拔的意志。在事业、经商、求名和决策等方面，乾卦都代表着顺利、顺利行事，具有刚健、不屈不挠的精神。在婚恋方面，乾卦代表着天圆地方，意味着顺利结束婚姻。\\n\\n在人生观、价值观方面，乾卦代表着天行健，强调健行、坚韧不屈的精神，提倡模擬天行，行健、坚忍、不屈。在人际关系方面，乾卦代表着天健，强调大吉大利，要求互相信任，互惠互利。\\n\\n总体来说，乾卦象征着天行健，强调刚健、不屈不挠的精神，在事业、经商、求名和决策方面具有大吉大利的作用。在婚恋方面，乾卦代表着天圆地方，尽管顺利，但也存在一些潜在的危机。在人际关系方面，乾卦代表着天健，强调大吉大利，要求互相信任，互惠互利。'}\n",
      "\n",
      "\n",
      "微调后（ChatGLM3-6B(Epoch=3, automade-dataset)）：\n",
      "[gMASK]sop 解释下乾卦是什么？ 在周易中，乾卦是六十四卦之首，由六个阳爻组成，象征着天。它所代表的是刚健、健行、刚健不屈的意境。乾卦的核心哲学是：天道刚健，运行不已，君子观此卦象，从而以天为法，自强不息。\n",
      "\n",
      "乾卦象征天，为大通而至正。得此卦者，名利双收，应把握机会，争取成果。然而，切勿过于骄傲自满，而应保持谦逊、冷静和警惕。在事业、经商、求名等方面，乾卦皆暗示着大吉大利，但也警示着必须坚持正道、修养德行，方能永远亨通。\n",
      "\n",
      "在婚恋方面，乾卦提示着阳盛阴衰，但也强调刚柔相济，相互补足，形成美满的结果。在决策方面，则是强调刚健、正直、公允，自强不息的实质，需要修养德行、坚定信念，方能克服困难，消除灾难。\n"
     ]
    }
   ],
   "source": [
    "base_response, ft_response = compare_chatglm_results(\"解释下乾卦是什么？\", base_model, qlora_model_e3, training_tag)"
   ]
  },
  {
   "cell_type": "code",
   "execution_count": 21,
   "id": "046306ad-6afe-4ec9-ae55-3df04f61d8f5",
   "metadata": {},
   "outputs": [
    {
     "name": "stdout",
     "output_type": "stream",
     "text": [
      "问题：地水师卦是什么？\n",
      "\n",
      "原始输出：\n",
      "{'name': '卜卦问卜者，地水师卦是由坎卦（水）和坤卦（地）相叠而成。在周易中，这一卦象征着顺从天道的标记，预示着吉祥悔吝。君子观此卦象，应当顺应自然、适应环境、适应夹缝生存，而不能轻举妄动。地水师卦的运势起伏有因，需要坚持正义、勇敢行事，否则将会有凶险之灾。地水师卦的运势期限是在指南posts指南posts guided by theSpirits of the deceased。', 'content': '\\n地水师卦的核心哲学是：顺从天道、适应环境、适应夹缝生存，而不能轻举妄动。君子应当坚持正义、勇敢行事，而不是冒险行事。地水师卦的取舍为：顺应天道，适应环境，顺应夹缝生存，坚持正义，勇敢行事，而非轻举妄动。'}\n",
      "\n",
      "\n",
      "微调后（ChatGLM3-6B(Epoch=3, automade-dataset)）：\n",
      "[gMASK]sop 地水师卦是什么？ 抱歉，地水师卦并不是一个常见的卦象。在周易中，卦象是由两个卦相交而形成，地水师卦可能是您将地卦和坎卦相加得到的。地卦代表着地球，坎卦代表着云泽，两者相加代表着云泽之应。这一卦象预示着 Cloud and dew meet, and the cloud reflects the dew. This signifies that the earth is covered with snow, and the moisture is abundant. However, the卦象 also warns of the danger of over-reliance on the cloud and the dew, which can lead to flooding. In the context of卜卦，地水师卦象征着吉祥，但 also warns of potential danger.\n"
     ]
    }
   ],
   "source": [
    "base_response, ft_response = compare_chatglm_results(\"地水师卦是什么？\", base_model, qlora_model_e3, training_tag)"
   ]
  },
  {
   "cell_type": "code",
   "execution_count": 22,
   "id": "2ab3c310-8cc8-428a-91fa-964b7a58df43",
   "metadata": {},
   "outputs": [
    {
     "name": "stdout",
     "output_type": "stream",
     "text": [
      "问题：周易中的讼卦是什么\n",
      "\n",
      "原始输出：\n",
      "它是周易中的一卦，由上卦乾（天）和下卦坎（水）组成。这一卦象征着天与水相违，但它也预示着解决纷争的可能。在占卜中，讼卦代表着当前的困境和冲突。对于使用者而言，它意味着需要借助天力来解救，但同时也必须谨慎行事。在事业、经商、求名等方面，这一卦都暗示着困难重重的挑战，但有所不同 degree 的解决可能性。 overall，讼卦鼓励人们勇敢面对困难，寻求解决办法。\n",
      "\n",
      "\n",
      "微调后（ChatGLM3-6B(Epoch=3, automade-dataset)）：\n",
      "[gMASK]sop 周易中的讼卦是什么样子 讼卦是一个充满警示的卦象，它由上卦乾（天）和下卦坎（水）组成。在这个卦象中，天与水背道而驰，形成争讼的局面。虽然事情开始时有利可图，但必须警惕戒惧，因为中间虽然吉利，但最终会带来凶险。对于涉及大川，涉水渡河的行动不利。因此，君子观此卦象，应当慎之又慎，杜绝争讼之事，并在谋事之初谨慎行事。讼卦的核心哲学是要避免争讼，退而让人，求得化解，安于正理，方可避免意外之灾。在事业上，务必避免介入诉讼纠纷的争执之中，与其这样，不如退而让人。即使最终获胜，也难免得失不均。经商方面，要坚持公正、公平、互利的原则，避免冲突，这样会有好结果。而对于求名、婚恋和决策，也都需要慎重行事，避免盲目追求，退让让人，可助事业、婚姻和决策的发展。\n"
     ]
    }
   ],
   "source": [
    "base_response, ft_response = compare_chatglm_results(\"周易中的讼卦是什么\", base_model, qlora_model_e3, training_tag)"
   ]
  },
  {
   "cell_type": "markdown",
   "id": "8169237c-55d3-4d91-9f6b-8dbe635f1844",
   "metadata": {},
   "source": [
    "#### 加载 QLoRA Adapter(Epoch=50, Overfit, handmade-dataset)"
   ]
  },
  {
   "cell_type": "code",
   "execution_count": 24,
   "id": "72e6cc4f-c030-4107-b07a-6ef44f66a4b0",
   "metadata": {},
   "outputs": [],
   "source": [
    "from peft import PeftModel, PeftConfig\n",
    "\n",
    "epochs = 50\n",
    "peft_model_path = f\"models/{model_name_or_path}-epoch{epochs}-{timestamp}\"\n",
    "\n",
    "config = PeftConfig.from_pretrained(peft_model_path)\n",
    "qlora_model_e50_handmade = PeftModel.from_pretrained(base_model, peft_model_path)\n",
    "training_tag = f\"ChatGLM3-6B(Epoch=50, handmade-dataset)\""
   ]
  },
  {
   "cell_type": "code",
   "execution_count": 25,
   "id": "8d63b187-37be-4721-8959-098d0437c41d",
   "metadata": {},
   "outputs": [
    {
     "name": "stdout",
     "output_type": "stream",
     "text": [
      "问题：解释下乾卦是什么？\n",
      "\n",
      "原始输出：\n",
      "乾卦是中国传统易学的卦象之一，由六个阳爻组成，中间一个阳爻实、一个虚。它象征着天宇的广大、刚健和健行。乾卦代表刚健不阿，冒险前进，敢作敢为，敢攀敢堕的卦象。在实际生活中，它在卦象中显示了行健不息，刚健不阿，勇敢前进的象数。乾卦 also represents the天宇广大，刚健和健行，敢作敢为，敢攀敢堕的卦象。在实际生活中，它应在卦象中显示了行健不息，刚健不阿，勇敢前进的卦象。乾卦的哲学内涵是：刚健不阿，正派活泼，勇敢前进。在事业、经商、求名、婚恋等方面的决策中，都应取此卦象。\n",
      "\n",
      "\n",
      "微调后（ChatGLM3-6B(Epoch=50, handmade-dataset)）：\n",
      "[gMASK]sop 解释下乾卦是什么？ 在周易中，乾卦是六十四卦之首，由六个阳爻组成，象征着天。它所代表的是刚健、健行、刚健不屈的意境。乾卦的核心哲学是：天道刚健，运行不已，君子观此卦象，从而以天为法，自强不息。\n",
      "\n",
      "乾卦象征天，为大通而至正。得此卦者，名利双收，应把握机会，争取成果。然而，切勿过于骄傲自满，而应保持谦逊、冷静和警惕。在事业、经商、求名等方面，乾卦皆暗示着大吉大利，但也警示着必须坚持正道、修养德行，方能永远亨通。\n",
      "\n",
      "在婚恋方面，乾卦提示着阳盛阴衰，但也强调刚柔相济，相互补足，形成美满的结果。在决策方面，则是强调刚健、正直、公允，自强不息的实质，需要修养德行、坚定信念，方能克服困难，消除灾难。\n"
     ]
    }
   ],
   "source": [
    "base_response, ft_response = compare_chatglm_results(\"解释下乾卦是什么？\", base_model, qlora_model_e50_handmade, training_tag)"
   ]
  },
  {
   "cell_type": "code",
   "execution_count": 26,
   "id": "be5da80e-d1de-467f-a3bb-508d5a77a46d",
   "metadata": {},
   "outputs": [
    {
     "name": "stdout",
     "output_type": "stream",
     "text": [
      "问题：地水师卦\n",
      "\n",
      "原始输出：\n",
      "在周易中，地水师卦是一个由两个卦相组合而成的卦象，代表着的事物相互交织，需要慎重处理。这个卦象代表人生中的困难与挫折，但也有克服困难的可能性。对于经商，意味着面临挫折和困难，需要谨慎行事，不可急躁。对于恋爱，卦象显示情感复杂，需要慎重处理，不能急功近利。地水师卦的核心哲学是，人生经商过程中，必须慎重行事，不可急躁，但也有克服困难的可能性。\n",
      "\n",
      "\n",
      "微调后（ChatGLM3-6B(Epoch=50, handmade-dataset)）：\n",
      "[gMASK]sop 地水师卦\n",
      "\n",
      " equal，the，a，and，in，on，of，to，for，with，by，from，about，above，below，in，on，under，between，of，for，with，about，above，below，in，on，under，between，of，for，with，about，above，below，in，on，under，between，of，for，with，about，above，below，in，on，under，between，of，for，with，about，above，below，in，on，under，between，of，for，with，about，above，below，in，on，under，between，of，for，with，about，above，below，in，on，under，between，of，for，with，about，above，below，in，on，under，between，of，for，with，about，above，below，in，on，under，between，of，for，with，about，above，below，in，on，under，between，of，for，with，about，above，below，in，on，under，between，of，for，with，about，above，below，in，on，under，between，of，for，with，about，above，below，in，on，under，between，of，for，with，about，above，below，in，on，under，between，of，for，with，about，above，below，in，on，under，between，of，for，with，about，above，below，in，on，under，between，of，for，with，about，above，below，in，on，under，between，of，for，with，about，above，below，in，on，under，between，of，for，with，about，above，below，in，on，under，between，of，for，with，about，above，below，in，on，under，between，of，for，with，about，above，below，in，on，under，between，of，for，with，about，above，below，in，on，under，between，of，for，with，about，\n"
     ]
    }
   ],
   "source": [
    "base_response, ft_response = compare_chatglm_results(\"地水师卦\", base_model, qlora_model_e50_handmade, training_tag)"
   ]
  },
  {
   "cell_type": "code",
   "execution_count": 27,
   "id": "04f0eb9a-5075-4588-914a-2538bea801aa",
   "metadata": {},
   "outputs": [
    {
     "name": "stdout",
     "output_type": "stream",
     "text": [
      "问题：天水讼卦\n",
      "\n",
      "原始输出：\n",
      "讼卦是周易中的一卦，由上卦乾（天）和下卦坎（水）组成。在这个卦中，阳卦（天）和阴卦（水）相互融合，形成一个和谐的整体。因此，这是一个吉利的卦象，预示着枯木逢春，复得新生的景象。\n",
      "\n",
      "讼卦的核心哲学是：天行健，君子专迷于道，科险喜争，占卜者应避免与尖刻之人心相争。然而，尽管吉象明显，但仍有危险和挫折。在事业上，应避免冒进， awaits恢复的机会。在君子生活中，应避免贪图眼前利益，而应致力于长期的规划。\n",
      "\n",
      "总体而言，讼卦表示一个充满矛盾与斗争的卦象，对于事业与人生都有不同的解释。在事业上，强调谨慎与耐心，避免冒险与贪进， awaits恢复的机会；对于君子生活，强调避免贪图眼前利益，而应致力于长期的规划。\n",
      "\n",
      "\n",
      "微调后（ChatGLM3-6B(Epoch=50, handmade-dataset)）：\n",
      "[gMASK]sop 天水讼卦 坎卦与坤卦相互对立，一个象征水，一个象征地。在周易中，这两个卦相互对立，形成一种相克关系。坎卦代表着云，云聚散为天地，地雷震动为君子，君子行于云中，君子之道像云一样。坤卦则是地雷震动，表示刚健健行，君子刚健而健行，像云一样，君子美在其中。两卦都各有四卦，分别为云卦、云中卦、地雷卦、震动卦。在象辞中，云卦和地雷卦分别代表 Cloud and Thunder，两者都预示着 Cloudy Thundery Weather（云中风暴）。云中卦和震动卦则分别代表着 Cloudless and Thunder，预示着云中风暴将消逝。坤卦的君子刚健而健行，像云一样，坤卦的卦象由地雷卦和云卦组成，象征着君子刚健而健行，像云一样。坎卦的卦象由云卦和坤卦相交而成，象征着云中风暴，预示着云中风暴将消逝。\n"
     ]
    }
   ],
   "source": [
    "base_response, ft_response = compare_chatglm_results(\"天水讼卦\", base_model, qlora_model_e50_handmade, training_tag)"
   ]
  },
  {
   "cell_type": "code",
   "execution_count": null,
   "id": "275860e7-76e8-4faf-b2c6-b084fd230224",
   "metadata": {},
   "outputs": [],
   "source": []
  }
 ],
 "metadata": {
  "kernelspec": {
   "display_name": "Python 3 (ipykernel)",
   "language": "python",
   "name": "python3"
  },
  "language_info": {
   "codemirror_mode": {
    "name": "ipython",
    "version": 3
   },
   "file_extension": ".py",
   "mimetype": "text/x-python",
   "name": "python",
   "nbconvert_exporter": "python",
   "pygments_lexer": "ipython3",
   "version": "3.10.18"
  }
 },
 "nbformat": 4,
 "nbformat_minor": 5
}
